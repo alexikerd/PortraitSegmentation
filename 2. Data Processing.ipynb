{
 "cells": [
  {
   "cell_type": "markdown",
   "metadata": {},
   "source": [
    "Data Exploration\n",
    "\n",
    "I'm going to take a look at the photos and try to understand the dataset.\n",
    "\n",
    "I'll take a look at the attributes given in the files, however I doubt that any of them will be helpful in this task.\n",
    "\n",
    "I'll test out a few methods in generating image matting in order to train."
   ]
  },
  {
   "cell_type": "code",
   "execution_count": 1,
   "metadata": {},
   "outputs": [],
   "source": [
    "import os\n",
    "from os import path\n",
    "import numpy as np\n",
    "import pandas as pd\n",
    "import cv2\n",
    "from matplotlib import pyplot as plt\n",
    "from scipy.io import loadmat\n",
    "from skimage import io\n",
    "import imutils\n",
    "from tqdm import tqdm"
   ]
  },
  {
   "cell_type": "code",
   "execution_count": 2,
   "metadata": {},
   "outputs": [],
   "source": [
    "CURRENT_DIR = path.abspath(path.curdir)\n",
    "FOLDER = '/[EG_code_data]_release/data/'\n",
    "IMG_SIZE = (600,800)\n",
    "\n",
    "urls = pd.read_csv(CURRENT_DIR + FOLDER + 'alldata_urls.txt',names=['name','url'],delimiter=' ')\n",
    "crops = pd.read_csv(CURRENT_DIR + FOLDER + 'crop.txt',names=['name','leftx','lefty','rightx','righty'],delimiter=' ')\n",
    "backgrounds = os.listdir(CURRENT_DIR + '/Backgrounds/')"
   ]
  },
  {
   "cell_type": "code",
   "execution_count": 6,
   "metadata": {},
   "outputs": [
    {
     "name": "stderr",
     "output_type": "stream",
     "text": [
      "\n",
      "\n",
      "\n",
      "0it [00:00, ?it/s]\u001b[A\u001b[A\u001b[A\n",
      "\n",
      "\n",
      "1it [00:03,  3.01s/it]\u001b[A\u001b[A\u001b[A\n",
      "\n",
      "\n",
      "2it [00:05,  2.71s/it]\u001b[A\u001b[A\u001b[A\n",
      "\n",
      "\n",
      "3it [00:07,  2.61s/it]\u001b[A\u001b[A\u001b[A\n",
      "\n",
      "\n",
      "4it [00:10,  2.71s/it]\u001b[A\u001b[A\u001b[A\n",
      "\n",
      "\n",
      "5it [00:12,  2.48s/it]\u001b[A\u001b[A\u001b[A\n",
      "\n",
      "\n",
      "6it [00:15,  2.56s/it]\u001b[A\u001b[A\u001b[A\n",
      "\n",
      "\n",
      "7it [00:17,  2.58s/it]\u001b[A\u001b[A\u001b[A\n",
      "\n",
      "\n",
      "8it [00:19,  2.37s/it]\u001b[A\u001b[A\u001b[A\n",
      "\n",
      "\n",
      "9it [00:22,  2.44s/it]\u001b[A\u001b[A\u001b[A\n",
      "\n",
      "\n",
      "10it [00:25,  2.64s/it]\u001b[A\u001b[A\u001b[A\n",
      "\n",
      "\n",
      "11it [00:27,  2.67s/it]\u001b[A\u001b[A\u001b[A\n",
      "\n",
      "\n",
      "12it [00:28,  1.94s/it]\u001b[A\u001b[A\u001b[A\n",
      "\n",
      "\n",
      "13it [00:30,  2.17s/it]\u001b[A\u001b[A\u001b[A\n",
      "\n",
      "\n",
      "14it [00:35,  2.78s/it]\u001b[A\u001b[A\u001b[A\n",
      "\n",
      "\n",
      "15it [00:38,  3.03s/it]\u001b[A\u001b[A\u001b[A\n",
      "\n",
      "\n",
      "16it [00:41,  3.05s/it]\u001b[A\u001b[A\u001b[A\n",
      "\n",
      "\n",
      "17it [00:44,  2.79s/it]\u001b[A\u001b[A\u001b[A\n",
      "\n",
      "\n",
      "18it [00:44,  2.01s/it]\u001b[A\u001b[A\u001b[A\n",
      "\n",
      "\n",
      "19it [00:47,  2.25s/it]\u001b[A\u001b[A\u001b[A\n",
      "\n",
      "\n",
      "20it [00:49,  2.28s/it]\u001b[A\u001b[A\u001b[A\n",
      "\n",
      "\n",
      "21it [00:52,  2.55s/it]\u001b[A\u001b[A\u001b[A\n",
      "\n",
      "\n",
      "22it [00:55,  2.65s/it]\u001b[A\u001b[A\u001b[A\n",
      "\n",
      "\n",
      "23it [00:58,  2.81s/it]\u001b[A\u001b[A\u001b[A\n",
      "\n",
      "\n",
      "24it [01:00,  2.63s/it]\u001b[A\u001b[A\u001b[A\n",
      "\n",
      "\n",
      "25it [01:03,  2.72s/it]\u001b[A\u001b[A\u001b[A\n",
      "\n",
      "\n",
      "26it [01:06,  2.79s/it]\u001b[A\u001b[A\u001b[A\n",
      "\n",
      "\n",
      "27it [01:10,  3.03s/it]\u001b[A\u001b[A\u001b[A\n",
      "\n",
      "\n",
      "28it [01:12,  2.92s/it]\u001b[A\u001b[A\u001b[A\n",
      "\n",
      "\n",
      "29it [01:15,  2.95s/it]\u001b[A\u001b[A\u001b[A\n",
      "\n",
      "\n",
      "30it [01:17,  2.64s/it]\u001b[A\u001b[A\u001b[A\n",
      "\n",
      "\n",
      "31it [01:20,  2.77s/it]\u001b[A\u001b[A\u001b[A\n",
      "\n",
      "\n",
      "32it [01:24,  2.95s/it]\u001b[A\u001b[A\u001b[A\n",
      "\n",
      "\n",
      "33it [01:27,  3.02s/it]\u001b[A\u001b[A\u001b[A\n",
      "\n",
      "\n",
      "34it [01:31,  3.21s/it]\u001b[A\u001b[A\u001b[A\n",
      "\n",
      "\n",
      "35it [01:34,  3.28s/it]\u001b[A\u001b[A\u001b[A\n",
      "\n",
      "\n",
      "36it [01:37,  3.22s/it]\u001b[A\u001b[A\u001b[A\n",
      "\n",
      "\n",
      "37it [01:43,  3.87s/it]\u001b[A\u001b[A\u001b[A\n",
      "\n",
      "\n",
      "38it [01:43,  2.78s/it]\u001b[A\u001b[A\u001b[A\n",
      "\n",
      "\n",
      "39it [01:46,  2.85s/it]\u001b[A\u001b[A\u001b[A\n",
      "\n",
      "\n",
      "40it [01:49,  3.06s/it]\u001b[A\u001b[A\u001b[A\n",
      "\n",
      "\n",
      "42it [01:50,  2.18s/it]\u001b[A\u001b[A\u001b[A\n",
      "\n",
      "\n",
      "43it [01:52,  2.27s/it]\u001b[A\u001b[A\u001b[A\n",
      "\n",
      "\n",
      "44it [01:52,  1.65s/it]\u001b[A\u001b[A\u001b[A\n",
      "\n",
      "\n",
      "45it [01:55,  2.02s/it]\u001b[A\u001b[A\u001b[A\n",
      "\n",
      "\n",
      "46it [01:58,  2.32s/it]\u001b[A\u001b[A\u001b[A\n",
      "\n",
      "\n",
      "47it [02:02,  2.61s/it]\u001b[A\u001b[A\u001b[A\n",
      "\n",
      "\n",
      "49it [02:05,  2.33s/it]\u001b[A\u001b[A\u001b[A\n",
      "\n",
      "\n",
      "50it [02:07,  2.31s/it]\u001b[A\u001b[A\u001b[A\n",
      "\n",
      "\n",
      "51it [02:09,  2.25s/it]\u001b[A\u001b[A\u001b[A\n",
      "\n",
      "\n",
      "52it [02:13,  2.63s/it]\u001b[A\u001b[A\u001b[A\n",
      "\n",
      "\n",
      "53it [02:17,  3.00s/it]\u001b[A\u001b[A\u001b[A\n",
      "\n",
      "\n",
      "54it [02:19,  2.80s/it]\u001b[A\u001b[A\u001b[A\n",
      "\n",
      "\n",
      "55it [02:19,  2.02s/it]\u001b[A\u001b[A\u001b[A\n",
      "\n",
      "\n",
      "57it [02:21,  1.67s/it]\u001b[A\u001b[A\u001b[A\n",
      "\n",
      "\n",
      "58it [02:24,  2.04s/it]\u001b[A\u001b[A\u001b[A\n",
      "\n",
      "\n",
      "59it [02:27,  2.44s/it]\u001b[A\u001b[A\u001b[A\n",
      "\n",
      "\n",
      "60it [02:30,  2.46s/it]\u001b[A\u001b[A\u001b[A\n",
      "\n",
      "\n",
      "61it [02:32,  2.32s/it]\u001b[A\u001b[A\u001b[A\n",
      "\n",
      "\n",
      "62it [02:33,  2.15s/it]\u001b[A\u001b[A\u001b[A\n",
      "\n",
      "\n",
      "63it [02:36,  2.35s/it]\u001b[A\u001b[A\u001b[A\n",
      "\n",
      "\n",
      "64it [02:39,  2.45s/it]\u001b[A\u001b[A\u001b[A\n",
      "\n",
      "\n",
      "65it [02:42,  2.69s/it]\u001b[A\u001b[A\u001b[A\n",
      "\n",
      "\n",
      "66it [02:46,  2.96s/it]\u001b[A\u001b[A\u001b[A\n",
      "\n",
      "\n",
      "67it [02:46,  2.13s/it]\u001b[A\u001b[A\u001b[A\n",
      "\n",
      "\n",
      "68it [02:50,  2.67s/it]\u001b[A\u001b[A\u001b[A\n",
      "\n",
      "\n",
      "69it [02:50,  1.93s/it]\u001b[A\u001b[A\u001b[A\n",
      "\n",
      "\n",
      "70it [02:52,  2.09s/it]\u001b[A\u001b[A\u001b[A\n",
      "\n",
      "\n",
      "71it [02:55,  2.22s/it]\u001b[A\u001b[A\u001b[A\n",
      "\n",
      "\n",
      "72it [02:58,  2.45s/it]\u001b[A\u001b[A\u001b[A\n",
      "\n",
      "\n",
      "73it [03:00,  2.46s/it]\u001b[A\u001b[A\u001b[A\n",
      "\n",
      "\n",
      "74it [03:03,  2.55s/it]\u001b[A\u001b[A\u001b[A\n",
      "\n",
      "\n",
      "75it [03:06,  2.47s/it]\u001b[A\u001b[A\u001b[A\n",
      "\n",
      "\n",
      "76it [03:09,  2.66s/it]\u001b[A\u001b[A\u001b[A\n",
      "\n",
      "\n",
      "77it [03:09,  1.93s/it]\u001b[A\u001b[A\u001b[A\n",
      "\n",
      "\n",
      "78it [03:11,  1.96s/it]\u001b[A\u001b[A\u001b[A\n",
      "\n",
      "\n",
      "79it [03:15,  2.46s/it]\u001b[A\u001b[A\u001b[A\n",
      "\n",
      "\n",
      "80it [03:18,  2.90s/it]\u001b[A\u001b[A\u001b[A\n",
      "\n",
      "\n",
      "81it [03:22,  3.05s/it]\u001b[A\u001b[A\u001b[A\n",
      "\n",
      "\n",
      "82it [03:24,  2.90s/it]\u001b[A\u001b[A\u001b[A\n",
      "\n",
      "\n",
      "83it [03:27,  2.90s/it]\u001b[A\u001b[A\u001b[A"
     ]
    },
    {
     "ename": "KeyboardInterrupt",
     "evalue": "",
     "output_type": "error",
     "traceback": [
      "\u001b[1;31m---------------------------------------------------------------------------\u001b[0m",
      "\u001b[1;31mKeyboardInterrupt\u001b[0m                         Traceback (most recent call last)",
      "\u001b[1;32m<ipython-input-6-37f24da9e9b0>\u001b[0m in \u001b[0;36m<module>\u001b[1;34m\u001b[0m\n\u001b[0;32m     75\u001b[0m \u001b[1;33m\u001b[0m\u001b[0m\n\u001b[0;32m     76\u001b[0m \u001b[1;33m\u001b[0m\u001b[0m\n\u001b[1;32m---> 77\u001b[1;33m             \u001b[0mcv2\u001b[0m\u001b[1;33m.\u001b[0m\u001b[0mimwrite\u001b[0m\u001b[1;33m(\u001b[0m\u001b[0mos\u001b[0m\u001b[1;33m.\u001b[0m\u001b[0mpath\u001b[0m\u001b[1;33m.\u001b[0m\u001b[0mjoin\u001b[0m\u001b[1;33m(\u001b[0m\u001b[0mCURRENT_DIR\u001b[0m\u001b[1;33m,\u001b[0m\u001b[1;34m'data'\u001b[0m\u001b[1;33m,\u001b[0m\u001b[0mtraintest\u001b[0m\u001b[1;33m,\u001b[0m\u001b[1;34m'data_'\u001b[0m \u001b[1;33m+\u001b[0m \u001b[0msample\u001b[0m\u001b[1;33m[\u001b[0m\u001b[1;36m1\u001b[0m\u001b[1;33m]\u001b[0m\u001b[1;33m[\u001b[0m\u001b[1;36m0\u001b[0m\u001b[1;33m]\u001b[0m\u001b[1;33m.\u001b[0m\u001b[0msplit\u001b[0m\u001b[1;33m(\u001b[0m\u001b[1;34m'.'\u001b[0m\u001b[1;33m)\u001b[0m\u001b[1;33m[\u001b[0m\u001b[1;36m0\u001b[0m\u001b[1;33m]\u001b[0m \u001b[1;33m+\u001b[0m \u001b[1;34m'_'\u001b[0m \u001b[1;33m+\u001b[0m \u001b[0mstr\u001b[0m\u001b[1;33m(\u001b[0m\u001b[0mi\u001b[0m\u001b[1;33m+\u001b[0m\u001b[1;36m1\u001b[0m\u001b[1;33m)\u001b[0m \u001b[1;33m+\u001b[0m \u001b[1;34m'.png'\u001b[0m\u001b[1;33m)\u001b[0m\u001b[1;33m,\u001b[0m\u001b[0mdata\u001b[0m\u001b[1;33m)\u001b[0m\u001b[1;33m\u001b[0m\u001b[1;33m\u001b[0m\u001b[0m\n\u001b[0m\u001b[0;32m     78\u001b[0m             \u001b[0mcv2\u001b[0m\u001b[1;33m.\u001b[0m\u001b[0mimwrite\u001b[0m\u001b[1;33m(\u001b[0m\u001b[0mos\u001b[0m\u001b[1;33m.\u001b[0m\u001b[0mpath\u001b[0m\u001b[1;33m.\u001b[0m\u001b[0mjoin\u001b[0m\u001b[1;33m(\u001b[0m\u001b[0mCURRENT_DIR\u001b[0m\u001b[1;33m,\u001b[0m\u001b[1;34m'matte'\u001b[0m\u001b[1;33m,\u001b[0m\u001b[0mtraintest\u001b[0m\u001b[1;33m,\u001b[0m\u001b[1;34m'matte_'\u001b[0m \u001b[1;33m+\u001b[0m \u001b[0msample\u001b[0m\u001b[1;33m[\u001b[0m\u001b[1;36m1\u001b[0m\u001b[1;33m]\u001b[0m\u001b[1;33m[\u001b[0m\u001b[1;36m0\u001b[0m\u001b[1;33m]\u001b[0m\u001b[1;33m.\u001b[0m\u001b[0msplit\u001b[0m\u001b[1;33m(\u001b[0m\u001b[1;34m'.'\u001b[0m\u001b[1;33m)\u001b[0m\u001b[1;33m[\u001b[0m\u001b[1;36m0\u001b[0m\u001b[1;33m]\u001b[0m \u001b[1;33m+\u001b[0m \u001b[1;34m'_'\u001b[0m \u001b[1;33m+\u001b[0m \u001b[0mstr\u001b[0m\u001b[1;33m(\u001b[0m\u001b[0mi\u001b[0m\u001b[1;33m+\u001b[0m\u001b[1;36m1\u001b[0m\u001b[1;33m)\u001b[0m \u001b[1;33m+\u001b[0m \u001b[1;34m'.png'\u001b[0m\u001b[1;33m)\u001b[0m\u001b[1;33m,\u001b[0m\u001b[0mmask\u001b[0m\u001b[1;33m)\u001b[0m\u001b[1;33m\u001b[0m\u001b[1;33m\u001b[0m\u001b[0m\n\u001b[0;32m     79\u001b[0m             \u001b[0mcv2\u001b[0m\u001b[1;33m.\u001b[0m\u001b[0mimwrite\u001b[0m\u001b[1;33m(\u001b[0m\u001b[0mos\u001b[0m\u001b[1;33m.\u001b[0m\u001b[0mpath\u001b[0m\u001b[1;33m.\u001b[0m\u001b[0mjoin\u001b[0m\u001b[1;33m(\u001b[0m\u001b[0mCURRENT_DIR\u001b[0m\u001b[1;33m,\u001b[0m\u001b[1;34m'trimap'\u001b[0m\u001b[1;33m,\u001b[0m\u001b[0mtraintest\u001b[0m\u001b[1;33m,\u001b[0m\u001b[1;34m'trimap_'\u001b[0m \u001b[1;33m+\u001b[0m \u001b[0msample\u001b[0m\u001b[1;33m[\u001b[0m\u001b[1;36m1\u001b[0m\u001b[1;33m]\u001b[0m\u001b[1;33m[\u001b[0m\u001b[1;36m0\u001b[0m\u001b[1;33m]\u001b[0m\u001b[1;33m.\u001b[0m\u001b[0msplit\u001b[0m\u001b[1;33m(\u001b[0m\u001b[1;34m'.'\u001b[0m\u001b[1;33m)\u001b[0m\u001b[1;33m[\u001b[0m\u001b[1;36m0\u001b[0m\u001b[1;33m]\u001b[0m \u001b[1;33m+\u001b[0m \u001b[1;34m'_'\u001b[0m \u001b[1;33m+\u001b[0m \u001b[0mstr\u001b[0m\u001b[1;33m(\u001b[0m\u001b[0mi\u001b[0m\u001b[1;33m+\u001b[0m\u001b[1;36m1\u001b[0m\u001b[1;33m)\u001b[0m \u001b[1;33m+\u001b[0m \u001b[1;34m'.png'\u001b[0m\u001b[1;33m)\u001b[0m\u001b[1;33m,\u001b[0m\u001b[0mtrimap\u001b[0m\u001b[1;33m)\u001b[0m\u001b[1;33m\u001b[0m\u001b[1;33m\u001b[0m\u001b[0m\n",
      "\u001b[1;31mKeyboardInterrupt\u001b[0m: "
     ]
    }
   ],
   "source": [
    "for sample in tqdm(urls.T.iteritems()):\n",
    "    \n",
    "    try:\n",
    "        og = io.imread(sample[1][1])\n",
    "        crop = crops[crops['name']==sample[1][0]]\n",
    "        og = og[crop['leftx'].values[0]:crop['lefty'].values[0],crop['rightx'].values[0]:crop['righty'].values[0],:]\n",
    "        og = cv2.resize(og,IMG_SIZE)\n",
    "        og = cv2.cvtColor(og, cv2.COLOR_BGR2RGB)\n",
    "        cv2.imwrite(os.path.join(CURRENT_DIR,'og','og_' + sample[1][0].split('.')[0] + '.png'),og)\n",
    "\n",
    "        if np.random.uniform(0,1)>0.9:\n",
    "            traintest = 'test'\n",
    "        else:\n",
    "            traintest = 'train'\n",
    "\n",
    "        for i in range(np.random.randint(10,20)):      \n",
    "        \n",
    "\n",
    "            # Grabbing the image and mask from the dataset\n",
    "            image = og.copy()\n",
    "            mask = np.asarray(loadmat(CURRENT_DIR + FOLDER + '/images_mask/' + sample[1][0].split('.')[0] + '_mask.mat')['mask'])\n",
    "            \n",
    "            # Performing image augmentation on the data\n",
    "            if np.random.randint(0,2)==0:\n",
    "                image = cv2.flip(image,1)\n",
    "                mask = cv2.flip(mask,1)\n",
    "                \n",
    "            rotation = np.random.randint(-30,31)\n",
    "            image = imutils.rotate(image, rotation)\n",
    "            mask = imutils.rotate(mask,rotation)\n",
    "            \n",
    "\n",
    "            \n",
    "            brightness = np.random.uniform(0,1)\n",
    "            image = np.power(image,brightness+0.5)\n",
    "            image *= 255/np.max(image)\n",
    "\n",
    "\n",
    "    \n",
    "            w1 = np.random.randint(0.25*IMG_SIZE[0])\n",
    "            w2 = IMG_SIZE[0]-np.random.randint(0.25*IMG_SIZE[0])\n",
    "            h1 = np.random.randint(0.25*IMG_SIZE[1])\n",
    "            h2 = IMG_SIZE[1]-np.random.randint(0.25*IMG_SIZE[1])\n",
    "            \n",
    "            image = image[w1:w2,h1:h2]            \n",
    "            image = cv2.resize(image,IMG_SIZE)\n",
    "            mask = mask[w1:w2,h1:h2]\n",
    "            mask = cv2.resize(mask,IMG_SIZE)\n",
    "            inv_mask = cv2.bitwise_not(mask) - 254\n",
    "            \n",
    "            if i >2:\n",
    "\n",
    "                background = cv2.imread(CURRENT_DIR + '/Backgrounds/' + np.random.choice(backgrounds))\n",
    "                background = cv2.resize(background,IMG_SIZE)\n",
    "#                 background = cv2.cvtColor(background, cv2.COLOR_BGR2RGB)\n",
    "                background = np.power(background,brightness+0.5)\n",
    "                background *= 255/np.max(background)\n",
    "                masked_image = cv2.bitwise_and(image,image,mask=mask).astype(np.uint8)\n",
    "                masked_background = cv2.bitwise_and(background,background,mask=inv_mask).astype(np.uint8)\n",
    "                data = cv2.add(masked_background,masked_image)\n",
    "                \n",
    "            else:\n",
    "                data = image.copy()\n",
    "            \n",
    "            # Saving the results to a file\n",
    "\n",
    "            mask *= 255\n",
    "            ret, thresh = cv2.threshold(mask,127,255,0)\n",
    "            contours,hierarchy = cv2.findContours(mask, 1, 2)\n",
    "            trimap = cv2.drawContours(np.zeros((IMG_SIZE[1],IMG_SIZE[0])), contours, -1,(255),thickness=-1)\n",
    "            trimap = cv2.drawContours(trimap,contours,-1,(127),thickness=15)\n",
    "            kernel = np.ones((5,5),np.uint8)\n",
    "            trimap = cv2.erode(trimap,kernel,iterations=3)\n",
    "            trimap = cv2.dilate(trimap,kernel,iterations=3)\n",
    "\n",
    "\n",
    "            cv2.imwrite(os.path.join(CURRENT_DIR,'data',traintest,'data_' + sample[1][0].split('.')[0] + '_' + str(i+1) + '.png'),data)\n",
    "            cv2.imwrite(os.path.join(CURRENT_DIR,'matte',traintest,'matte_' + sample[1][0].split('.')[0] + '_' + str(i+1) + '.png'),mask)\n",
    "            cv2.imwrite(os.path.join(CURRENT_DIR,'trimap',traintest,'trimap_' + sample[1][0].split('.')[0] + '_' + str(i+1) + '.png'),trimap)\n",
    "\n",
    "\n",
    "    except Exception as e:\n",
    "\n",
    "#             print(e)\n",
    "        pass\n",
    "    \n",
    "#     break\n",
    "\n",
    "\n",
    "print(len(os.listdir(CURRENT_DIR + '/data/train/')) + len(os.listdir(CURRENT_DIR + '/data/test/'))) \n",
    "\n",
    "\n"
   ]
  },
  {
   "cell_type": "code",
   "execution_count": 53,
   "metadata": {},
   "outputs": [
    {
     "name": "stdout",
     "output_type": "stream",
     "text": [
      "800\n"
     ]
    }
   ],
   "source": [
    "print(IMG_SIZE[0])"
   ]
  },
  {
   "cell_type": "markdown",
   "metadata": {},
   "source": [
    "5000 Alley\n",
    "2500 Arch\n",
    "2500 Cabin\n",
    "5000 Beach\n",
    "2500 Desert\n",
    "2500 Creek"
   ]
  },
  {
   "cell_type": "code",
   "execution_count": 104,
   "metadata": {},
   "outputs": [
    {
     "data": {
      "text/plain": [
       "<matplotlib.image.AxesImage at 0x1ed7749df88>"
      ]
     },
     "execution_count": 104,
     "metadata": {},
     "output_type": "execute_result"
    },
    {
     "data": {
      "image/png": "[encoded data removed]",
      "text/plain": [
       "<Figure size 432x288 with 1 Axes>"
      ]
     },
     "metadata": {
      "needs_background": "light"
     },
     "output_type": "display_data"
    }
   ],
   "source": [
    "plt.imshow(mask)"
   ]
  },
  {
   "cell_type": "code",
   "execution_count": 103,
   "metadata": {},
   "outputs": [
    {
     "data": {
      "text/plain": [
       "<matplotlib.image.AxesImage at 0x1ed7736f9c8>"
      ]
     },
     "execution_count": 103,
     "metadata": {},
     "output_type": "execute_result"
    },
    {
     "data": {
      "image/png": "[encoded data removed]",
      "text/plain": [
       "<Figure size 432x288 with 1 Axes>"
      ]
     },
     "metadata": {
      "needs_background": "light"
     },
     "output_type": "display_data"
    }
   ],
   "source": [
    "plt.imshow(inv_mask)"
   ]
  },
  {
   "cell_type": "code",
   "execution_count": 98,
   "metadata": {},
   "outputs": [
    {
     "ename": "error",
     "evalue": "OpenCV(4.2.0) ..\\modules\\core\\src\\arithm.cpp:250: error: (-215:Assertion failed) (mtype == CV_8U || mtype == CV_8S) && _mask.sameSize(*psrc1) in function 'cv::binary_op'\n",
     "output_type": "error",
     "traceback": [
      "\u001b[1;31m---------------------------------------------------------------------------\u001b[0m",
      "\u001b[1;31merror\u001b[0m                                     Traceback (most recent call last)",
      "\u001b[1;32m<ipython-input-98-822ec3638002>\u001b[0m in \u001b[0;36m<module>\u001b[1;34m\u001b[0m\n\u001b[0;32m      1\u001b[0m \u001b[0mtest\u001b[0m \u001b[1;33m=\u001b[0m \u001b[0mjokes\u001b[0m\u001b[1;33m.\u001b[0m\u001b[0mastype\u001b[0m\u001b[1;33m(\u001b[0m\u001b[0mnp\u001b[0m\u001b[1;33m.\u001b[0m\u001b[0muint8\u001b[0m\u001b[1;33m)\u001b[0m\u001b[1;33m\u001b[0m\u001b[1;33m\u001b[0m\u001b[0m\n\u001b[1;32m----> 2\u001b[1;33m \u001b[0mmasked_background\u001b[0m \u001b[1;33m=\u001b[0m \u001b[0mcv2\u001b[0m\u001b[1;33m.\u001b[0m\u001b[0mbitwise_and\u001b[0m\u001b[1;33m(\u001b[0m\u001b[0mbackground\u001b[0m\u001b[1;33m,\u001b[0m\u001b[0mbackground\u001b[0m\u001b[1;33m,\u001b[0m\u001b[0mmask\u001b[0m\u001b[1;33m=\u001b[0m\u001b[0mnp\u001b[0m\u001b[1;33m.\u001b[0m\u001b[0mwhere\u001b[0m\u001b[1;33m(\u001b[0m\u001b[0mtest\u001b[0m\u001b[1;33m==\u001b[0m\u001b[1;36m1\u001b[0m\u001b[1;33m,\u001b[0m\u001b[1;36m0\u001b[0m\u001b[1;33m,\u001b[0m\u001b[1;36m1\u001b[0m\u001b[1;33m)\u001b[0m\u001b[1;33m)\u001b[0m\u001b[1;33m.\u001b[0m\u001b[0mastype\u001b[0m\u001b[1;33m(\u001b[0m\u001b[0mnp\u001b[0m\u001b[1;33m.\u001b[0m\u001b[0muint8\u001b[0m\u001b[1;33m)\u001b[0m\u001b[1;33m\u001b[0m\u001b[1;33m\u001b[0m\u001b[0m\n\u001b[0m",
      "\u001b[1;31merror\u001b[0m: OpenCV(4.2.0) ..\\modules\\core\\src\\arithm.cpp:250: error: (-215:Assertion failed) (mtype == CV_8U || mtype == CV_8S) && _mask.sameSize(*psrc1) in function 'cv::binary_op'\n"
     ]
    }
   ],
   "source": [
    "test = jokes.astype(np.uint8)\n",
    "masked_background = cv2.bitwise_and(background,background,mask=np.where(test==1,0,1)).astype(np.uint8)"
   ]
  },
  {
   "cell_type": "code",
   "execution_count": 93,
   "metadata": {},
   "outputs": [
    {
     "data": {
      "text/plain": [
       "<matplotlib.image.AxesImage at 0x1ed77341f88>"
      ]
     },
     "execution_count": 93,
     "metadata": {},
     "output_type": "execute_result"
    },
    {
     "data": {
      "image/png": "[encoded data removed]",
      "text/plain": [
       "<Figure size 432x288 with 1 Axes>"
      ]
     },
     "metadata": {
      "needs_background": "light"
     },
     "output_type": "display_data"
    }
   ],
   "source": [
    "plt.imshow(background)"
   ]
  },
  {
   "cell_type": "code",
   "execution_count": 96,
   "metadata": {},
   "outputs": [
    {
     "data": {
      "text/plain": [
       "<matplotlib.image.AxesImage at 0x1ed7785d988>"
      ]
     },
     "execution_count": 96,
     "metadata": {},
     "output_type": "execute_result"
    },
    {
     "data": {
      "image/png": "[encoded data removed]",
      "text/plain": [
       "<Figure size 432x288 with 1 Axes>"
      ]
     },
     "metadata": {
      "needs_background": "light"
     },
     "output_type": "display_data"
    }
   ],
   "source": [
    "plt.imshow(np.where(jokes==1,0,1),cmap='gray')"
   ]
  }
 ],
 "metadata": {
  "kernelspec": {
   "display_name": "Python 3",
   "language": "python",
   "name": "python3"
  },
  "language_info": {
   "codemirror_mode": {
    "name": "ipython",
    "version": 3
   },
   "file_extension": ".py",
   "mimetype": "text/x-python",
   "name": "python",
   "nbconvert_exporter": "python",
   "pygments_lexer": "ipython3",
   "version": "3.7.6"
  }
 },
 "nbformat": 4,
 "nbformat_minor": 2
}
